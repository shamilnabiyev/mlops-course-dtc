{
 "cells": [
  {
   "cell_type": "markdown",
   "id": "a06acf4f",
   "metadata": {},
   "source": [
    "# Homework 02"
   ]
  },
  {
   "cell_type": "markdown",
   "id": "7f8bda00",
   "metadata": {},
   "source": [
    "## Q1. Install MLflow"
   ]
  },
  {
   "cell_type": "markdown",
   "id": "1696fbcf",
   "metadata": {},
   "source": [
    "What's the version that you have?"
   ]
  },
  {
   "cell_type": "code",
   "execution_count": null,
   "id": "a750b4c1",
   "metadata": {},
   "outputs": [],
   "source": [
    "!python -m pip install mlflow"
   ]
  },
  {
   "cell_type": "markdown",
   "id": "5a415935",
   "metadata": {},
   "source": [
    "*Answer:*"
   ]
  },
  {
   "cell_type": "code",
   "execution_count": 23,
   "id": "3f25cf79",
   "metadata": {},
   "outputs": [
    {
     "data": {
      "text/plain": [
       "'MLFlow version: 1.26.0'"
      ]
     },
     "execution_count": 23,
     "metadata": {},
     "output_type": "execute_result"
    }
   ],
   "source": [
    "f\"MLFlow version: {mlflow.__version__}\""
   ]
  },
  {
   "cell_type": "markdown",
   "id": "63fed4a5",
   "metadata": {},
   "source": [
    "## Q2. Download and preprocess the data"
   ]
  },
  {
   "cell_type": "markdown",
   "id": "1f8ffecf",
   "metadata": {},
   "source": [
    "How many files were saved to OUTPUT_FOLDER?"
   ]
  },
  {
   "cell_type": "code",
   "execution_count": 20,
   "id": "6e953479",
   "metadata": {},
   "outputs": [],
   "source": [
    "!python preprocess_data.py --raw_data_path ../data/ --dest_path ./output"
   ]
  },
  {
   "cell_type": "code",
   "execution_count": 22,
   "id": "93dd36fc",
   "metadata": {},
   "outputs": [
    {
     "name": "stdout",
     "output_type": "stream",
     "text": [
      "total 7844\n",
      "-rw-r--r-- 1 user 197121  397058 May 27 20:22 dv.pkl\n",
      "-rw-r--r-- 1 user 197121 2805216 May 27 20:22 test.pkl\n",
      "-rw-r--r-- 1 user 197121 2661168 May 27 20:22 train.pkl\n",
      "-rw-r--r-- 1 user 197121 2166546 May 27 20:22 valid.pkl\n"
     ]
    }
   ],
   "source": [
    "!ls -l ./output"
   ]
  },
  {
   "cell_type": "markdown",
   "id": "78ebbb53",
   "metadata": {},
   "source": [
    "*Answer:*"
   ]
  },
  {
   "cell_type": "markdown",
   "id": "e643bacb",
   "metadata": {},
   "source": [
    "There are 4 files in output folder"
   ]
  },
  {
   "cell_type": "markdown",
   "id": "93384765",
   "metadata": {},
   "source": [
    "## Q3. Train a model with autolog"
   ]
  },
  {
   "cell_type": "markdown",
   "id": "2df7c48a",
   "metadata": {},
   "source": [
    "How many parameters are automatically logged by MLflow?"
   ]
  },
  {
   "cell_type": "code",
   "execution_count": 24,
   "id": "79a7e54f",
   "metadata": {},
   "outputs": [
    {
     "name": "stdout",
     "output_type": "stream",
     "text": [
      "Wall time: 2min 21s\n"
     ]
    }
   ],
   "source": [
    "%%time\n",
    "\n",
    "!python train.py --data_path ./output"
   ]
  },
  {
   "cell_type": "markdown",
   "id": "662f7078",
   "metadata": {},
   "source": [
    "*Answer:*"
   ]
  },
  {
   "cell_type": "markdown",
   "id": "dc0b8dc7",
   "metadata": {},
   "source": [
    "In total, 18 hyperparameters were logged automatically (see screenshot below)."
   ]
  },
  {
   "cell_type": "markdown",
   "id": "50c7d456",
   "metadata": {},
   "source": [
    "<img src=\"img/q3-autologger-hyperparameters.jpg\" alt=\"q3-autologger-hyperparameters\" width=\"500\"/>"
   ]
  },
  {
   "cell_type": "markdown",
   "id": "4083169f",
   "metadata": {},
   "source": [
    "## Q4. Launch the tracking server locally"
   ]
  },
  {
   "cell_type": "markdown",
   "id": "05bfaab4",
   "metadata": {},
   "source": [
    "In addition to backend-store-uri, what else do you need to pass to properly configure the server?"
   ]
  },
  {
   "cell_type": "code",
   "execution_count": null,
   "id": "4c5122e3",
   "metadata": {},
   "outputs": [],
   "source": [
    "!mkdir artifacts\n",
    "!mlflow server --backend-store-uri sqlite:///mydb.sqlite --default-artifact-root artifacts"
   ]
  },
  {
   "cell_type": "markdown",
   "id": "ec33202a",
   "metadata": {},
   "source": [
    "*Answer:*"
   ]
  },
  {
   "cell_type": "markdown",
   "id": "8532ce4e",
   "metadata": {},
   "source": [
    "The `artifacts` value has to be passed to the `--default-artifact-root` argument to properly start the Tracking Server, backend and artifact stores in MLFlow (see screenshot below). "
   ]
  },
  {
   "cell_type": "markdown",
   "id": "07e0456d",
   "metadata": {},
   "source": [
    "<img src=\"img/q4-mlflow-tracking-server.jpg\" alt=\"q4-mlflow-tracking-server.jpg\"/>"
   ]
  },
  {
   "cell_type": "markdown",
   "id": "ea9326bd",
   "metadata": {},
   "source": [
    " "
   ]
  },
  {
   "cell_type": "markdown",
   "id": "78a9d59e",
   "metadata": {},
   "source": [
    "## Q5. Tune the hyperparameters of the model"
   ]
  },
  {
   "cell_type": "markdown",
   "id": "096a9658",
   "metadata": {},
   "source": [
    "What's the best validation RMSE that you got?"
   ]
  },
  {
   "cell_type": "code",
   "execution_count": 44,
   "id": "00478b56",
   "metadata": {},
   "outputs": [
    {
     "name": "stdout",
     "output_type": "stream",
     "text": [
      "Wall time: 12min 40s\n",
      "\n",
      "  0%|          | 0/50 [00:00<?, ?trial/s, best loss=?]\n",
      "  2%|2         | 1/50 [00:49<40:35, 49.70s/trial, best loss: 6.658956269343007]\n",
      "  4%|4         | 2/50 [00:51<17:16, 21.59s/trial, best loss: 6.658956269343007]\n",
      "  6%|6         | 3/50 [00:54<10:07, 12.93s/trial, best loss: 6.658956269343007]\n",
      "  8%|8         | 4/50 [01:35<18:23, 23.98s/trial, best loss: 6.651438559376775]\n",
      " 10%|#         | 5/50 [01:54<16:47, 22.38s/trial, best loss: 6.651438559376775]\n",
      " 12%|#2        | 6/50 [03:01<27:33, 37.58s/trial, best loss: 6.651438559376775]\n",
      " 14%|#4        | 7/50 [04:25<37:42, 52.61s/trial, best loss: 6.651438559376775]\n"
     ]
    },
    {
     "name": "stderr",
     "output_type": "stream",
     "text": [
      "2022/05/27 22:19:49 INFO mlflow.tracking.fluent: Experiment with name 'random-forest-hyperopt' does not exist. Creating a new experiment.\n"
     ]
    },
    {
     "name": "stdout",
     "output_type": "stream",
     "text": [
      " 16%|#6        | 8/50 [04:32<26:48, 38.29s/trial, best loss: 6.651438559376775]\n",
      " 18%|#8        | 9/50 [04:51<21:52, 32.02s/trial, best loss: 6.651438559376775]\n",
      " 20%|##        | 10/50 [05:01<16:49, 25.23s/trial, best loss: 6.651438559376775]\n",
      " 22%|##2       | 11/50 [05:08<12:55, 19.88s/trial, best loss: 6.642137287429206]\n",
      " 24%|##4       | 12/50 [05:13<09:39, 15.24s/trial, best loss: 6.642137287429206]\n",
      " 26%|##6       | 13/50 [05:15<06:49, 11.08s/trial, best loss: 6.642137287429206]\n",
      " 28%|##8       | 14/50 [05:20<05:41,  9.50s/trial, best loss: 6.642137287429206]\n",
      " 30%|###       | 15/50 [05:31<05:44,  9.84s/trial, best loss: 6.642137287429206]\n",
      " 32%|###2      | 16/50 [05:37<04:51,  8.57s/trial, best loss: 6.642137287429206]\n",
      " 34%|###4      | 17/50 [05:47<05:00,  9.11s/trial, best loss: 6.642137287429206]\n",
      " 36%|###6      | 18/50 [06:03<05:54, 11.07s/trial, best loss: 6.629728007710133]\n",
      " 38%|###8      | 19/50 [06:06<04:30,  8.74s/trial, best loss: 6.629728007710133]\n",
      " 40%|####      | 20/50 [06:08<03:20,  6.70s/trial, best loss: 6.629728007710133]\n",
      " 42%|####2     | 21/50 [06:33<05:57, 12.33s/trial, best loss: 6.629728007710133]\n",
      " 44%|####4     | 22/50 [06:52<06:39, 14.27s/trial, best loss: 6.629728007710133]\n",
      " 46%|####6     | 23/50 [07:20<08:16, 18.38s/trial, best loss: 6.629728007710133]\n",
      " 48%|####8     | 24/50 [07:47<09:02, 20.86s/trial, best loss: 6.629728007710133]\n",
      " 50%|#####     | 25/50 [08:05<08:21, 20.08s/trial, best loss: 6.629728007710133]\n",
      " 52%|#####2    | 26/50 [08:23<07:44, 19.34s/trial, best loss: 6.629728007710133]\n",
      " 54%|#####4    | 27/50 [08:31<06:09, 16.07s/trial, best loss: 6.629728007710133]\n",
      " 56%|#####6    | 28/50 [08:51<06:20, 17.29s/trial, best loss: 6.629728007710133]\n",
      " 58%|#####8    | 29/50 [08:56<04:46, 13.66s/trial, best loss: 6.629728007710133]\n",
      " 60%|######    | 30/50 [09:15<05:02, 15.12s/trial, best loss: 6.629728007710133]\n",
      " 62%|######2   | 31/50 [09:16<03:25, 10.80s/trial, best loss: 6.629728007710133]\n",
      " 64%|######4   | 32/50 [09:28<03:21, 11.17s/trial, best loss: 6.629728007710133]\n",
      " 66%|######6   | 33/50 [09:50<04:08, 14.60s/trial, best loss: 6.629728007710133]\n",
      " 68%|######8   | 34/50 [10:09<04:11, 15.71s/trial, best loss: 6.6284257482044735]\n",
      " 70%|#######   | 35/50 [10:18<03:28, 13.89s/trial, best loss: 6.6284257482044735]\n",
      " 72%|#######2  | 36/50 [10:28<02:57, 12.70s/trial, best loss: 6.6284257482044735]\n",
      " 74%|#######4  | 37/50 [10:29<01:56,  8.99s/trial, best loss: 6.6284257482044735]\n",
      " 76%|#######6  | 38/50 [10:41<02:00, 10.02s/trial, best loss: 6.6284257482044735]\n",
      " 78%|#######8  | 39/50 [10:57<02:10, 11.83s/trial, best loss: 6.6284257482044735]\n",
      " 80%|########  | 40/50 [11:13<02:10, 13.09s/trial, best loss: 6.6284257482044735]\n",
      " 82%|########2 | 41/50 [11:16<01:29,  9.94s/trial, best loss: 6.6284257482044735]\n",
      " 84%|########4 | 42/50 [11:23<01:12,  9.05s/trial, best loss: 6.6284257482044735]\n",
      " 86%|########6 | 43/50 [11:34<01:08,  9.74s/trial, best loss: 6.6284257482044735]\n",
      " 88%|########8 | 44/50 [11:48<01:05, 10.97s/trial, best loss: 6.6284257482044735]\n",
      " 90%|######### | 45/50 [11:55<00:48,  9.78s/trial, best loss: 6.6284257482044735]\n",
      " 92%|#########2| 46/50 [11:57<00:29,  7.38s/trial, best loss: 6.6284257482044735]\n",
      " 94%|#########3| 47/50 [12:07<00:24,  8.17s/trial, best loss: 6.6284257482044735]\n",
      " 96%|#########6| 48/50 [12:11<00:14,  7.02s/trial, best loss: 6.6284257482044735]\n",
      " 98%|#########8| 49/50 [12:20<00:07,  7.58s/trial, best loss: 6.6284257482044735]\n",
      "100%|##########| 50/50 [12:30<00:00,  8.51s/trial, best loss: 6.6284257482044735]\n",
      "100%|##########| 50/50 [12:30<00:00, 15.02s/trial, best loss: 6.6284257482044735]\n"
     ]
    }
   ],
   "source": [
    "%%time\n",
    "\n",
    "!python hpo.py --data_path ./output"
   ]
  },
  {
   "cell_type": "markdown",
   "id": "e837f3ad",
   "metadata": {},
   "source": [
    "*Answer:*"
   ]
  },
  {
   "cell_type": "markdown",
   "id": "a73d7831",
   "metadata": {},
   "source": [
    "The best validation RMSE is `6.628` (see screenshot below)."
   ]
  },
  {
   "cell_type": "markdown",
   "id": "72593e96",
   "metadata": {},
   "source": [
    "<img src=\"img/q5-hyperopt-rmse-2.jpg\" alt=\"q5-hyperopt-rmse.jpg\"/>"
   ]
  },
  {
   "cell_type": "markdown",
   "id": "e307fe87",
   "metadata": {},
   "source": [
    "## Q6. Promote the best model to the model registry"
   ]
  },
  {
   "cell_type": "markdown",
   "id": "080ed38c",
   "metadata": {},
   "source": [
    "What is the test RMSE of the best model?"
   ]
  },
  {
   "cell_type": "code",
   "execution_count": 70,
   "id": "008b2e4d",
   "metadata": {},
   "outputs": [
    {
     "name": "stdout",
     "output_type": "stream",
     "text": [
      "Wall time: 1min 53s\n"
     ]
    },
    {
     "name": "stderr",
     "output_type": "stream",
     "text": [
      "Successfully registered model 'random-forest-regressor-tuned'.\n",
      "2022/05/27 23:50:31 INFO mlflow.tracking._model_registry.client: Waiting up to 300 seconds for model version to finish creation.                     Model name: random-forest-regressor-tuned, version 1\n",
      "Created version '1' of model 'random-forest-regressor-tuned'.\n"
     ]
    }
   ],
   "source": [
    "%%time\n",
    "\n",
    "!python register_model.py --data_path ./output --top_n 5"
   ]
  },
  {
   "cell_type": "markdown",
   "id": "1c25200d",
   "metadata": {},
   "source": [
    "*Answer:*\n",
    "\n",
    "The best model's RMSE is `6.548`"
   ]
  },
  {
   "cell_type": "markdown",
   "id": "95dc9270",
   "metadata": {},
   "source": [
    "<img src=\"img/q6-experiments.jpg\" alt=\"q6-experiments.jpg\"/>"
   ]
  },
  {
   "cell_type": "markdown",
   "id": "1883ff25",
   "metadata": {},
   "source": [
    "<img src=\"img/q6-registered-model.jpg\" alt=\"q6-registered-model.jpg\"/>"
   ]
  }
 ],
 "metadata": {
  "kernelspec": {
   "display_name": "autogluon-venv",
   "language": "python",
   "name": "autogluon-venv"
  },
  "language_info": {
   "codemirror_mode": {
    "name": "ipython",
    "version": 3
   },
   "file_extension": ".py",
   "mimetype": "text/x-python",
   "name": "python",
   "nbconvert_exporter": "python",
   "pygments_lexer": "ipython3",
   "version": "3.7.9"
  }
 },
 "nbformat": 4,
 "nbformat_minor": 5
}
